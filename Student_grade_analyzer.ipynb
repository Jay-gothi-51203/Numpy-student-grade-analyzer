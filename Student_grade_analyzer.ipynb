{
 "cells": [
  {
   "cell_type": "markdown",
   "metadata": {},
   "source": [
    "# Numpy Project"
   ]
  },
  {
   "cell_type": "markdown",
   "metadata": {},
   "source": [
    "NumPy-Based Student Grade Analyzer\n",
    "What it does:\n",
    "\n",
    "Store marks of students in a 2D NumPy array\n",
    "\n",
    "Calculate:\n",
    "\n",
    "Total, average, min, and max marks\n",
    "\n",
    "Find the highest scorer\n",
    "\n",
    "Filter students scoring above 80%"
   ]
  },
  {
   "cell_type": "code",
   "execution_count": 1,
   "metadata": {},
   "outputs": [
    {
     "name": "stdout",
     "output_type": "stream",
     "text": [
      "Students: ['Jay' 'Meet' 'Ved' 'Rahul' 'Ronak']\n",
      "Total marks: [284 249 241 230 233]\n",
      "Average marks: [94.66666667 83.         80.33333333 76.66666667 77.66666667]\n",
      "Maximum marks: [99 90 89 80 87]\n",
      "Minimum marks: [90 70 65 70 68]\n",
      "The student who have more than 80%: ['Jay' 'Meet' 'Ved']\n",
      "Rank number 1 goes to: Jay\n"
     ]
    }
   ],
   "source": [
    "import numpy as np # import numpy as np\n",
    "\n",
    "# making numpy array\n",
    "students = np.array([\"Jay\",\"Meet\",\"Ved\",\"Rahul\",\"Ronak\"])\n",
    "\n",
    "marks = np.array( [ \n",
    "    [90,95,99],\n",
    "    [70,89,90],\n",
    "    [89,87,65],\n",
    "    [80,80,70],\n",
    "    [78,87,68]\n",
    " ] )\n",
    "\n",
    "# Find the total, avg(mean), maximum and minimum marks.\n",
    "\n",
    "Total = np.sum(marks,axis = 1)\n",
    "\n",
    "Average = np.mean(marks,axis = 1)\n",
    "\n",
    "Maximum = np.max(marks, axis = 1)\n",
    "\n",
    "Minimum = np.min(marks,axis = 1)\n",
    "\n",
    "\n",
    "# to find the students who have more than 80 % (240 marks out of 300)\n",
    "top_students = students[Total >= 240] \n",
    "\n",
    "print(\"Students:\",students)\n",
    "\n",
    "print(\"Total marks:\",Total)\n",
    "\n",
    "print(\"Average marks:\",Average)\n",
    "\n",
    "print(\"Maximum marks:\",Maximum)\n",
    "\n",
    "print(\"Minimum marks:\",Minimum)\n",
    "\n",
    "# Student who have more than 80% \n",
    "print(\"The student who have more than 80%:\",top_students)\n",
    "\n",
    "top_index = np.argmax(Total)  # Find index of highest total\n",
    "one_rank = students[top_index]  # Get student name using index\n",
    "\n",
    "print(\"Rank number 1 goes to:\",one_rank)\n"
   ]
  },
  {
   "cell_type": "code",
   "execution_count": null,
   "metadata": {},
   "outputs": [],
   "source": []
  }
 ],
 "metadata": {
  "kernelspec": {
   "display_name": "Python 3",
   "language": "python",
   "name": "python3"
  },
  "language_info": {
   "codemirror_mode": {
    "name": "ipython",
    "version": 3
   },
   "file_extension": ".py",
   "mimetype": "text/x-python",
   "name": "python",
   "nbconvert_exporter": "python",
   "pygments_lexer": "ipython3",
   "version": "3.13.5"
  }
 },
 "nbformat": 4,
 "nbformat_minor": 2
}
